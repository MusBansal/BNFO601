{
  "nbformat": 4,
  "nbformat_minor": 0,
  "metadata": {
    "colab": {
      "name": "Untitled0.ipynb",
      "provenance": [],
      "authorship_tag": "ABX9TyOT5LOHdgppR3heGLNU48LL",
      "include_colab_link": true
    },
    "kernelspec": {
      "name": "python3",
      "display_name": "Python 3"
    },
    "language_info": {
      "name": "python"
    }
  },
  "cells": [
    {
      "cell_type": "markdown",
      "metadata": {
        "id": "view-in-github",
        "colab_type": "text"
      },
      "source": [
        "<a href=\"https://colab.research.google.com/github/MusBansal/BNFO601/blob/main/test1_1.ipynb\" target=\"_parent\"><img src=\"https://colab.research.google.com/assets/colab-badge.svg\" alt=\"Open In Colab\"/></a>"
      ]
    },
    {
      "cell_type": "code",
      "execution_count": 2,
      "metadata": {
        "colab": {
          "base_uri": "https://localhost:8080/"
        },
        "id": "terH2U-EPgTw",
        "outputId": "b2d54bba-d585-4119-eb16-046d8e8fd32f"
      },
      "outputs": [
        {
          "output_type": "stream",
          "name": "stdout",
          "text": [
            "--2022-02-19 00:13:38--  https://raw.githubusercontent.com/MusBansal/BNFO601/main/trial.txt\n",
            "Resolving raw.githubusercontent.com (raw.githubusercontent.com)... 185.199.108.133, 185.199.109.133, 185.199.110.133, ...\n",
            "Connecting to raw.githubusercontent.com (raw.githubusercontent.com)|185.199.108.133|:443... connected.\n",
            "HTTP request sent, awaiting response... 200 OK\n",
            "Length: 1813 (1.8K) [text/plain]\n",
            "Saving to: ‘trial.txt’\n",
            "\n",
            "\rtrial.txt             0%[                    ]       0  --.-KB/s               \rtrial.txt           100%[===================>]   1.77K  --.-KB/s    in 0s      \n",
            "\n",
            "2022-02-19 00:13:38 (38.3 MB/s) - ‘trial.txt’ saved [1813/1813]\n",
            "\n",
            "Reading file: trial.txt\n"
          ]
        }
      ],
      "source": [
        "import re # python regex module\n",
        "import os.path\n",
        "# Load the genbank file \n",
        "DATA_FILE_GITHUB = \"https://raw.githubusercontent.com/MusBansal/BNFO601/main/trial.txt\"\n",
        "DEFAULT_FILE_NAME = 'trial.txt'\n",
        "\n",
        "fileName = DEFAULT_FILE_NAME\n",
        "#Does the file exists locally, if not get it from the github\n",
        "if not os.path.exists(fileName):\n",
        "  #Load the file from Github to the local folder\n",
        "  !wget --no-check-certificate --content-disposition $DATA_FILE_GITHUB\n",
        "   \n",
        "print(\"Reading file:\", fileName)\n",
        "\n",
        "# Read in the string from the file\n",
        "with open(fileName, \"r\") as myfile:\n",
        "    gb_input = myfile.read()"
      ]
    },
    {
      "cell_type": "code",
      "source": [
        "gi = re.compile(\"GI:(\\d*)\")\n",
        "accession= re.compile(\"VERSION\\s*(\\S+)\\s*\")\n",
        "descr_protein= re.compile(\"DEFINITION\\s*(.+[\\s\\S]\\s*.+)\\.\")\n",
        "\n",
        "for match in re.finditer(descr_protein, gb_input):\n",
        "  gi_match = match.group(1)\n",
        "  print(gi_match)"
      ],
      "metadata": {
        "id": "-gsnD6mWTKsS",
        "outputId": "a33a05a5-dbfa-4421-85b1-43d8044fa7e0",
        "colab": {
          "base_uri": "https://localhost:8080/"
        }
      },
      "execution_count": 8,
      "outputs": [
        {
          "output_type": "stream",
          "name": "stdout",
          "text": [
            "TPA: proteolysis tag peptide encoded by tmRNA Esche_coli_K12,\n",
            "            partial [Escherichia coli O104:H4 str. 01-09591]\n"
          ]
        }
      ]
    }
  ]
}