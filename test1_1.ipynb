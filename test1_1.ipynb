{
  "nbformat": 4,
  "nbformat_minor": 0,
  "metadata": {
    "colab": {
      "name": "Untitled0.ipynb",
      "provenance": [],
      "authorship_tag": "ABX9TyP/3bM1TQq86uZLEFND4dJx",
      "include_colab_link": true
    },
    "kernelspec": {
      "name": "python3",
      "display_name": "Python 3"
    },
    "language_info": {
      "name": "python"
    }
  },
  "cells": [
    {
      "cell_type": "markdown",
      "metadata": {
        "id": "view-in-github",
        "colab_type": "text"
      },
      "source": [
        "<a href=\"https://colab.research.google.com/github/MusBansal/BNFO601/blob/main/test1_1.ipynb\" target=\"_parent\"><img src=\"https://colab.research.google.com/assets/colab-badge.svg\" alt=\"Open In Colab\"/></a>"
      ]
    },
    {
      "cell_type": "code",
      "execution_count": 2,
      "metadata": {
        "colab": {
          "base_uri": "https://localhost:8080/"
        },
        "id": "terH2U-EPgTw",
        "outputId": "a82101ad-a45b-4807-fd88-da5671ac1228"
      },
      "outputs": [
        {
          "output_type": "stream",
          "name": "stdout",
          "text": [
            "--2022-02-18 23:55:51--  https://raw.githubusercontent.com/MusBansal/BNFO601/main/trial.txt\n",
            "Resolving raw.githubusercontent.com (raw.githubusercontent.com)... 185.199.110.133, 185.199.109.133, 185.199.111.133, ...\n",
            "Connecting to raw.githubusercontent.com (raw.githubusercontent.com)|185.199.110.133|:443... connected.\n",
            "HTTP request sent, awaiting response... 200 OK\n",
            "Length: 1813 (1.8K) [text/plain]\n",
            "Saving to: ‘trial.txt’\n",
            "\n",
            "\rtrial.txt             0%[                    ]       0  --.-KB/s               \rtrial.txt           100%[===================>]   1.77K  --.-KB/s    in 0s      \n",
            "\n",
            "2022-02-18 23:55:51 (14.1 MB/s) - ‘trial.txt’ saved [1813/1813]\n",
            "\n",
            "Reading file: gen_pep_trial.txt\n"
          ]
        }
      ],
      "source": [
        "import re # python regex module\n",
        "import os.path\n",
        "\n",
        "#Read the sequence file\n",
        "DATA_FILE_GITHUB = \"https://raw.githubusercontent.com/MusBansal/BNFO601/main/trial.txt\"\n",
        "DEFAULT_FILE_NAME = 'gen_pep_trial.txt'\n",
        "\n",
        "fileName = DEFAULT_FILE_NAME\n",
        "#Does the file exists locally, if not get it from the github\n",
        "if not os.path.exists(fileName):\n",
        "  #Load the file from Github to the local folder\n",
        "  !wget --no-check-certificate --content-disposition $DATA_FILE_GITHUB\n",
        "   \n",
        "print(\"Reading file:\", fileName)"
      ]
    },
    {
      "cell_type": "code",
      "source": [
        ""
      ],
      "metadata": {
        "id": "-gsnD6mWTKsS"
      },
      "execution_count": null,
      "outputs": []
    }
  ]
}