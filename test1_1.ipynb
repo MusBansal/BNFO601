{
  "nbformat": 4,
  "nbformat_minor": 0,
  "metadata": {
    "colab": {
      "name": "Untitled0.ipynb",
      "provenance": [],
      "authorship_tag": "ABX9TyNAAKy9DySE83WsdZSr/YTj",
      "include_colab_link": true
    },
    "kernelspec": {
      "name": "python3",
      "display_name": "Python 3"
    },
    "language_info": {
      "name": "python"
    }
  },
  "cells": [
    {
      "cell_type": "markdown",
      "metadata": {
        "id": "view-in-github",
        "colab_type": "text"
      },
      "source": [
        "<a href=\"https://colab.research.google.com/github/MusBansal/BNFO601/blob/main/test1_1.ipynb\" target=\"_parent\"><img src=\"https://colab.research.google.com/assets/colab-badge.svg\" alt=\"Open In Colab\"/></a>"
      ]
    },
    {
      "cell_type": "code",
      "execution_count": 1,
      "metadata": {
        "colab": {
          "base_uri": "https://localhost:8080/"
        },
        "id": "terH2U-EPgTw",
        "outputId": "1c7ea7f5-408b-4edc-d4af-e030d14953e1"
      },
      "outputs": [
        {
          "output_type": "stream",
          "name": "stdout",
          "text": [
            "--2022-02-19 14:43:12--  https://raw.githubusercontent.com/MusBansal/BNFO601/main/trial2.txt\n",
            "Resolving raw.githubusercontent.com (raw.githubusercontent.com)... 185.199.108.133, 185.199.109.133, 185.199.111.133, ...\n",
            "Connecting to raw.githubusercontent.com (raw.githubusercontent.com)|185.199.108.133|:443... connected.\n",
            "HTTP request sent, awaiting response... 200 OK\n",
            "Length: 4755 (4.6K) [text/plain]\n",
            "Saving to: ‘trial2.txt’\n",
            "\n",
            "\rtrial2.txt            0%[                    ]       0  --.-KB/s               \rtrial2.txt          100%[===================>]   4.64K  --.-KB/s    in 0s      \n",
            "\n",
            "2022-02-19 14:43:12 (55.0 MB/s) - ‘trial2.txt’ saved [4755/4755]\n",
            "\n",
            "Reading file: trial2.txt\n"
          ]
        }
      ],
      "source": [
        "import re # python regex module\n",
        "import os.path\n",
        "# Load the genbank file \n",
        "DATA_FILE_GITHUB = \"https://raw.githubusercontent.com/MusBansal/BNFO601/main/trial2.txt\"\n",
        "DEFAULT_FILE_NAME = 'trial2.txt'\n",
        "\n",
        "fileName = DEFAULT_FILE_NAME\n",
        "#Does the file exists locally, if not get it from the github\n",
        "if not os.path.exists(fileName):\n",
        "  #Load the file from Github to the local folder\n",
        "  !wget --no-check-certificate --content-disposition $DATA_FILE_GITHUB\n",
        "   \n",
        "print(\"Reading file:\", fileName)\n",
        "\n",
        "# Read in the string from the file\n",
        "with open(fileName, \"r\") as myfile:\n",
        "    gb_input = myfile.read()"
      ]
    },
    {
      "cell_type": "code",
      "source": [
        "from os import access\n",
        "#Patterns \n",
        "gi = re.compile(\"GI:(\\d*)\")\n",
        "accession= re.compile(\"VERSION\\s*(\\S+)\\s*\")\n",
        "descr_protein= re.compile(\"DEFINITION\\s*(.+[\\s\\S]\\s*.+)\\.\")\n",
        "sequence= re.compile(\"ORIGIN\\s*[\\s\\S]\\d(\\s*[\\s\\S]*)\\/\\/\")\n",
        "sequence_2= re.compile(\"(\\W*)|(\\d*)\")\n",
        "\n",
        "\n",
        "# GI #\n",
        "for match in re.finditer(gi, gb_input):\n",
        "  gi_match = match.group(1)\n",
        "  print(gi_match)\n",
        "\n",
        "# Accession #\n",
        "for match in re.finditer(accession, gb_input):\n",
        "  acc_match = match.group(1)\n",
        "  print(acc_match)\n",
        "\n",
        "#Description of Protein\n",
        "for match in re.finditer(descr_protein, gb_input):\n",
        "  des_match = match.group(1)\n",
        "  print(des_match)\n",
        "\n",
        "# Sequence of Protein\n",
        "for match in re.finditer(sequence, gb_input):\n",
        "  seq_match = match.group(1)\n",
        "  seq_match= re.sub(sequence_2,\"\",seq_match).upper()\n",
        "  print(seq_match)"
      ],
      "metadata": {
        "id": "-gsnD6mWTKsS",
        "colab": {
          "base_uri": "https://localhost:8080/"
        },
        "outputId": "d359574f-fabe-4d58-ae47-2370c34415e9"
      },
      "execution_count": 13,
      "outputs": [
        {
          "output_type": "stream",
          "name": "stdout",
          "text": [
            "340736247\n",
            "EGR65295.1\n",
            "3-isopropylmalate dehydrogenase [Escherichia coli O104:H4 str.\n",
            "            01-09591]\n",
            "363\n"
          ]
        }
      ]
    }
  ]
}