{
  "nbformat": 4,
  "nbformat_minor": 0,
  "metadata": {
    "colab": {
      "name": "Untitled0.ipynb",
      "provenance": [],
      "authorship_tag": "ABX9TyP5+sT/dmM6ei2YD1rcIovK",
      "include_colab_link": true
    },
    "kernelspec": {
      "name": "python3",
      "display_name": "Python 3"
    },
    "language_info": {
      "name": "python"
    }
  },
  "cells": [
    {
      "cell_type": "markdown",
      "metadata": {
        "id": "view-in-github",
        "colab_type": "text"
      },
      "source": [
        "<a href=\"https://colab.research.google.com/github/MusBansal/BNFO601/blob/main/test1_1.ipynb\" target=\"_parent\"><img src=\"https://colab.research.google.com/assets/colab-badge.svg\" alt=\"Open In Colab\"/></a>"
      ]
    },
    {
      "cell_type": "code",
      "execution_count": 81,
      "metadata": {
        "colab": {
          "base_uri": "https://localhost:8080/"
        },
        "id": "terH2U-EPgTw",
        "outputId": "dc029f7c-70f1-4498-f5aa-0104cd609c08"
      },
      "outputs": [
        {
          "output_type": "stream",
          "name": "stdout",
          "text": [
            "Reading file: trial.txt\n"
          ]
        }
      ],
      "source": [
        "import re # python regex module\n",
        "import os.path\n",
        "# Load the genbank file \n",
        "DATA_FILE_GITHUB = \"https://raw.githubusercontent.com/MusBansal/BNFO601/main/trial.txt\"\n",
        "DEFAULT_FILE_NAME = 'trial.txt'\n",
        "\n",
        "fileName = DEFAULT_FILE_NAME\n",
        "#Does the file exists locally, if not get it from the github\n",
        "if not os.path.exists(fileName):\n",
        "  #Load the file from Github to the local folder\n",
        "  !wget --no-check-certificate --content-disposition $DATA_FILE_GITHUB\n",
        "   \n",
        "print(\"Reading file:\", fileName)\n",
        "\n",
        "# Read in the string from the file\n",
        "with open(fileName, \"r\") as myfile:\n",
        "    gb_input = myfile.read()"
      ]
    },
    {
      "cell_type": "code",
      "source": [
        "sub=re.compile(\"\\n\\/\\/\")\n",
        "num_of_sub=sub.findall(gb_input)\n",
        "print(len(num_of_sub))\n",
        "print(num_of_sub)"
      ],
      "metadata": {
        "id": "nO7mZy24i-Qg",
        "outputId": "c6f45ab9-01ca-452a-edb1-6bb7a03c702f",
        "colab": {
          "base_uri": "https://localhost:8080/"
        }
      },
      "execution_count": 82,
      "outputs": [
        {
          "output_type": "stream",
          "name": "stdout",
          "text": [
            "2\n",
            "['\\n//', '\\n//']\n"
          ]
        }
      ]
    },
    {
      "cell_type": "code",
      "source": [
        "#Patterns \n",
        "gi = re.compile(\"GI:(\\d*)\")\n",
        "accession= re.compile(\"VERSION\\s*(\\S+)\\s*\")\n",
        "descr_protein= re.compile(\"DEFINITION\\s*(.+[\\s\\S]\\s*.+)\\.\")\n",
        "sequence= re.compile(\"ORIGIN\\s*[\\s\\S]\\d(\\s*[\\s\\S]*?)\\/\\/\")\n",
        "sequence_2= re.compile(\"(\\W*)|(\\d*)\")\n",
        "gi_match=[]\n",
        "acc_match=[]\n",
        "des_match=[]\n",
        "seq_match_list=[]\n",
        "# GI #\n",
        "for match in re.finditer(gi, gb_input):\n",
        "  gi_match.append(match.group(1))\n",
        "\n",
        "# Accession #\n",
        "for match in re.finditer(accession, gb_input):\n",
        "  acc_match.append(match.group(1))\n",
        "\n",
        "#Description of Protein\n",
        "for match in re.finditer(descr_protein, gb_input):\n",
        "  des_match.append(match.group(1))\n",
        "\n",
        "# Sequence of Protein\n",
        "for match in re.finditer(sequence, gb_input):\n",
        "  seq_match = match.group(1)\n",
        "  seq_match= re.sub(sequence_2,\"\",seq_match).upper()\n",
        "  seq_match_list.append(seq_match)\n",
        "\n",
        "\n",
        "  ## Pretty FASTA Print\n",
        "for i in range(0,len(num_of_sub)):\n",
        "  print(\">gi|{}|gb|{}| {}\\n{}\".format(gi_match[i],acc_match[i],des_match[i],seq_match_list[i]))"
      ],
      "metadata": {
        "id": "-gsnD6mWTKsS",
        "colab": {
          "base_uri": "https://localhost:8080/"
        },
        "outputId": "413b6754-b34a-41b8-f2d8-672be8dd3bac"
      },
      "execution_count": 87,
      "outputs": [
        {
          "output_type": "stream",
          "name": "stdout",
          "text": [
            ">gi|559119974|gb|CDK08259.1| TPA: proteolysis tag peptide encoded by tmRNA Esche_coli_K12,\n",
            "            partial [Escherichia coli O104:H4 str. 01-09591]\n",
            "ANDENYALAA\n",
            ">gi|340736247|gb|EGR65295.1| 3-isopropylmalate dehydrogenase [Escherichia coli O104:H4 str.\n",
            "            01-09591]\n",
            "MSKNYHIAVLPGDGIGPEVMTQALKVLDAVRNRFAMRITTSHYDVGGAAIDNHGQPLPPATVEGCEQADAVLFGSVGGPKWEHLPPDQQPERGALLPLRKHFKLFSNLRPAKLYQGLEAFCPLRADIAANGFDILCVRELTGGIYFGQPKGREGSGQYEKAFDTEVYHRFEIERIARIAFESARKRRHKVTSIDKANVLQSSILWREIVNEIATEYPDVELAHMYIDNATMQLIKDPSQFDVLLCSNLFGDILSDECAMITGSMGMLPSASLNEQGFGLYEPAGGSAPDIAGKNIANPIAQILSLALLLRYSLDADDAACAIERAINRALEEGIRTGDLARGAAAVSTDEMGDIIARYVAEGV\n"
          ]
        }
      ]
    }
  ]
}